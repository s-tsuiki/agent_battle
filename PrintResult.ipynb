{
 "cells": [
  {
   "cell_type": "code",
   "execution_count": null,
   "metadata": {},
   "outputs": [],
   "source": [
    "#対戦結果を返すプログラム\n",
    "#50試合のうちの勝った回数が多い方を勝者とする\n",
    "#logフォルダからex2-3, ex2-4のフォルダに対戦結果として「AvsB」の形で予め入れておく\n",
    "import glob2\n",
    "import pandas as pd\n",
    "\n",
    "ex_number = \"ex2-3\"\n",
    "folderName = \"AvsB\"  #「AvsB」のような形のフォルダにlogのフォルダをすべて入れる\n",
    "winCount = [0, 0]\n",
    "\n",
    "files = glob2.glob(\"./\" + ex_number + \"/\" + folderName + \"/**/score.csv\")\n",
    "for file in files:\n",
    "    df = pd.read_csv(file)\n",
    "    player1 = df.iloc[99999]['score1']\n",
    "    player2 = df.iloc[99999]['score2']\n",
    "    \n",
    "    print(file + \"→player1: \" + str(player1) + \",player2: \" + str(player2))\n",
    "    \n",
    "    if player1 > player2:\n",
    "        winCount[0]+=1\n",
    "    elif player1 < player2:\n",
    "        winCount[1]+=1\n",
    "\n",
    "playerName = folderName.split('vs')\n",
    "\n",
    "if winCount[0] > winCount[1]:\n",
    "    winner = playerName[0]\n",
    "elif winCount[0] < winCount[1]:\n",
    "    winner = playerName[1]\n",
    "else:\n",
    "    winner = None\n",
    "\n",
    "if winner is None:\n",
    "    print(\"Draw \" + playerName[0] + \": \" + str(winCount[0]) + \", \" + playerName[1] + \": \" + str(winCount[1]))\n",
    "else:\n",
    "    print(\"Winner: \" + winner + \" \" + playerName[0] + \": \" + str(winCount[0]) + \", \" + playerName[1] + \": \" + str(winCount[1]))"
   ]
  }
 ],
 "metadata": {
  "kernelspec": {
   "display_name": "Python 3",
   "language": "python",
   "name": "python3"
  },
  "language_info": {
   "codemirror_mode": {
    "name": "ipython",
    "version": 3
   },
   "file_extension": ".py",
   "mimetype": "text/x-python",
   "name": "python",
   "nbconvert_exporter": "python",
   "pygments_lexer": "ipython3",
   "version": "3.7.5"
  }
 },
 "nbformat": 4,
 "nbformat_minor": 2
}
