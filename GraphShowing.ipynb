{
 "cells": [
  {
   "cell_type": "code",
   "execution_count": 2,
   "metadata": {},
   "outputs": [
    {
     "name": "stdout",
     "output_type": "stream",
     "text": [
      "Graph showing completed.\n"
     ]
    }
   ],
   "source": [
    "#グラフをcsvファイルから出力するプログラム\n",
    "#イベントが発生しやすいほど、濃い色(障害物は黒)\n",
    "#結果はresult/ex_number/date内に出力\n",
    "from PIL import Image\n",
    "import numpy as np\n",
    "import pathlib\n",
    "\n",
    "#日付と課題番号(ここを条件に合わせて変更する)\n",
    "date = \"03-23 13-21-55\"\n",
    "ex_number = \"ex2-3\"\n",
    "\n",
    "#graph.csvのデータを配列に格納\n",
    "data = np.loadtxt(\"log/\" + ex_number + \"/\" + date + \"/graph.csv\",\n",
    "                  dtype = \"int\",\n",
    "                 delimiter=\",\",\n",
    "                 )\n",
    "\n",
    "#配列dataのサイズの画像を作成\n",
    "height, width = data.shape\n",
    "img = Image.new(\"RGB\", (width, height))\n",
    "\n",
    "#格納されている数字に従って、画像の色を設定\n",
    "for y in range(height):\n",
    "    for x in range(width):\n",
    "        number = data[y][x]\n",
    "        #0:赤 1:オレンジ 2:白 3:黒 4:青 5:緑\n",
    "        if number == 0:\n",
    "            img.putpixel((x, y),(255, 0, 0))\n",
    "        elif number == 1:\n",
    "            img.putpixel((x, y),(255, 165, 0))\n",
    "        elif number == 2:\n",
    "            img.putpixel((x, y),(255, 255, 255))\n",
    "        elif number == 3:\n",
    "            img.putpixel((x, y),(0, 0, 0))\n",
    "        elif number == 4:\n",
    "            img.putpixel((x, y),(0, 0, 255))\n",
    "        elif number == 5:\n",
    "            img.putpixel((x, y),(0, 128, 0))\n",
    "        else:\n",
    "            print(\"({0},{1})でエラー\".format(x,y))\n",
    "\n",
    "\n",
    "#そのままだと小さいので、50倍の大きさにする\n",
    "img = img.resize(((width*50), (height*50)))\n",
    "\n",
    "#フォルダがない場合は、作成\n",
    "p_dir = pathlib.Path(\"result/\" + ex_number + \"/\" + date)\n",
    "if not p_dir.exists():\n",
    "    p_dir.mkdir(parents=True)\n",
    "\n",
    "#画像を保存\n",
    "img.save(str(p_dir) + '/' + 'Graph.png')\n",
    "\n",
    "print(\"Graph showing completed.\")"
   ]
  },
  {
   "cell_type": "code",
   "execution_count": null,
   "metadata": {},
   "outputs": [],
   "source": []
  }
 ],
 "metadata": {
  "kernelspec": {
   "display_name": "Python 3",
   "language": "python",
   "name": "python3"
  },
  "language_info": {
   "codemirror_mode": {
    "name": "ipython",
    "version": 3
   },
   "file_extension": ".py",
   "mimetype": "text/x-python",
   "name": "python",
   "nbconvert_exporter": "python",
   "pygments_lexer": "ipython3",
   "version": "3.7.5"
  }
 },
 "nbformat": 4,
 "nbformat_minor": 2
}
