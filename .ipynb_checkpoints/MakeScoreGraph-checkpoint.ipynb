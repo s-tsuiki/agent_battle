{
 "cells": [
  {
   "cell_type": "code",
   "execution_count": null,
   "metadata": {},
   "outputs": [],
   "source": [
    "#ここにlog/ex2-3(ex2-4)/date/score.csvからプレイヤー１とプレイヤー2のスコアの推移のグラフを出力するプログラムを書く\n",
    "#縦軸：スコア　横軸：時間(ステップ)\n",
    "#ファイル形式は「.png」「.jpg」「.jpeg」のいずれか\n",
    "#グラフのタイトルは「ScoreGraph_Name」(ex. 「ScoreGraph_YamadaTaro」)とする\n",
    "#ファイル名は「ScoreGraph_名前」(ex. 「ScoreGraph_山田太郎」)とする\n"
   ]
  }
 ],
 "metadata": {
  "kernelspec": {
   "display_name": "Python 3",
   "language": "python",
   "name": "python3"
  },
  "language_info": {
   "codemirror_mode": {
    "name": "ipython",
    "version": 3
   },
   "file_extension": ".py",
   "mimetype": "text/x-python",
   "name": "python",
   "nbconvert_exporter": "python",
   "pygments_lexer": "ipython3",
   "version": "3.7.5"
  }
 },
 "nbformat": 4,
 "nbformat_minor": 2
}
